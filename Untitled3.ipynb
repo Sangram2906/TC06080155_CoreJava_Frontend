{
 "cells": [
  {
   "cell_type": "code",
   "execution_count": 1,
   "id": "3ff56e67",
   "metadata": {},
   "outputs": [
    {
     "name": "stdout",
     "output_type": "stream",
     "text": [
      "Requirement already satisfied: PyCryptodome in c:\\users\\sangr\\appdata\\local\\programs\\python\\python310\\lib\\site-packages (3.18.0)\n",
      "Note: you may need to restart the kernel to use updated packages.\n"
     ]
    },
    {
     "name": "stderr",
     "output_type": "stream",
     "text": [
      "\n",
      "[notice] A new release of pip available: 22.2.2 -> 23.1.2\n",
      "[notice] To update, run: python.exe -m pip install --upgrade pip\n"
     ]
    }
   ],
   "source": [
    "pip install PyCryptodome"
   ]
  },
  {
   "cell_type": "code",
   "execution_count": 2,
   "id": "a623937c",
   "metadata": {},
   "outputs": [],
   "source": [
    "from Crypto.Cipher import DES"
   ]
  },
  {
   "cell_type": "code",
   "execution_count": 3,
   "id": "0c166f86",
   "metadata": {},
   "outputs": [],
   "source": [
    "from secrets import token_bytes"
   ]
  },
  {
   "cell_type": "code",
   "execution_count": 50,
   "id": "93baadda",
   "metadata": {},
   "outputs": [],
   "source": [
    "def encrypt(msg, key):\n",
    "    cipher=DES.new(key, DES.MODE_EAX)\n",
    "    nonce = cipher.nonce\n",
    "    \n",
    "    cipher_text, tag = cipher.encrypt_and_digest(msg.encode(\"ascii\"))\n",
    "    \n",
    "    return cipher_text, tag, nonce"
   ]
  },
  {
   "cell_type": "code",
   "execution_count": 51,
   "id": "c90fae0b",
   "metadata": {},
   "outputs": [],
   "source": [
    "def decrypt(cipher_text, tag, nonce):\n",
    "    cipher=DES.new(key, DES.MODE_EAX, nonce=nonce)\n",
    "    plain_text=cipher.decrypt(cipher_text)\n",
    "    \n",
    "    try:\n",
    "        cipher.verify(tag)\n",
    "        return plain_text.decode(\"ascii\")\n",
    "    except:\n",
    "        return False"
   ]
  },
  {
   "cell_type": "code",
   "execution_count": 52,
   "id": "bb52a0c4",
   "metadata": {},
   "outputs": [],
   "source": [
    "key = token_bytes(8)"
   ]
  },
  {
   "cell_type": "code",
   "execution_count": 53,
   "id": "dffce830",
   "metadata": {},
   "outputs": [
    {
     "name": "stdout",
     "output_type": "stream",
     "text": [
      "Enter plain text : Hello Programmer\n"
     ]
    }
   ],
   "source": [
    "cipher_text, tag, nonce=encrypt(input(\"Enter plain text : \"),key)\n",
    "plain_text = decrypt(cipher_text, tag, nonce)"
   ]
  },
  {
   "cell_type": "code",
   "execution_count": 54,
   "id": "f17069cc",
   "metadata": {},
   "outputs": [
    {
     "name": "stdout",
     "output_type": "stream",
     "text": [
      "\n",
      "plaintext : Hello Programmer\n",
      "\n",
      "key : b'\\x06\\xd7+\\xe5\\xfe\\x93\\x12\\xee'\n",
      "\n",
      "ciphertext : b'\\xc0\\xb2v\\xd8\\x19\\xa7\\xe1\\x0c\\x99\\x85\\xeb\\x9ej\\x06\\x9b\\x85'\n"
     ]
    }
   ],
   "source": [
    "if(plain_text == False):\n",
    "    print(\"Message has been corrupted\")\n",
    "else:\n",
    "    print(f'\\nplaintext : {plain_text}')\n",
    "    print(f'\\nkey : {key}')\n",
    "    print(f'\\nciphertext : {cipher_text}')"
   ]
  },
  {
   "cell_type": "code",
   "execution_count": null,
   "id": "84a5c2e8",
   "metadata": {},
   "outputs": [],
   "source": []
  },
  {
   "cell_type": "code",
   "execution_count": null,
   "id": "815632bf",
   "metadata": {},
   "outputs": [],
   "source": [
    "import hashlib\n"
   ]
  },
  {
   "cell_type": "code",
   "execution_count": null,
   "id": "b2490b9d",
   "metadata": {},
   "outputs": [],
   "source": []
  }
 ],
 "metadata": {
  "kernelspec": {
   "display_name": "Python 3 (ipykernel)",
   "language": "python",
   "name": "python3"
  },
  "language_info": {
   "codemirror_mode": {
    "name": "ipython",
    "version": 3
   },
   "file_extension": ".py",
   "mimetype": "text/x-python",
   "name": "python",
   "nbconvert_exporter": "python",
   "pygments_lexer": "ipython3",
   "version": "3.10.6"
  }
 },
 "nbformat": 4,
 "nbformat_minor": 5
}
